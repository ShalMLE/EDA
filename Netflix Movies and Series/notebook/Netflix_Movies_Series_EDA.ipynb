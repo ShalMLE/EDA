{
 "cells": [
  {
   "cell_type": "markdown",
   "id": "b1880440",
   "metadata": {},
   "source": [
    "### Goal\n",
    "\n",
    "- To "
   ]
  },
  {
   "cell_type": "code",
   "execution_count": 1,
   "id": "02129aa6",
   "metadata": {},
   "outputs": [],
   "source": [
    "#Import the libraries and Load the dataset\n",
    "import numpy as np\n",
    "import pandas as pd\n",
    "import matplotlib.pyplot as plt\n",
    "import seaborn as sns\n",
    "\n",
    "df = pd.read_csv('netflix_titles.csv')"
   ]
  },
  {
   "cell_type": "code",
   "execution_count": 2,
   "id": "60cf7872",
   "metadata": {},
   "outputs": [
    {
     "data": {
      "text/html": [
       "<div>\n",
       "<style scoped>\n",
       "    .dataframe tbody tr th:only-of-type {\n",
       "        vertical-align: middle;\n",
       "    }\n",
       "\n",
       "    .dataframe tbody tr th {\n",
       "        vertical-align: top;\n",
       "    }\n",
       "\n",
       "    .dataframe thead th {\n",
       "        text-align: right;\n",
       "    }\n",
       "</style>\n",
       "<table border=\"1\" class=\"dataframe\">\n",
       "  <thead>\n",
       "    <tr style=\"text-align: right;\">\n",
       "      <th></th>\n",
       "      <th>show_id</th>\n",
       "      <th>type</th>\n",
       "      <th>title</th>\n",
       "      <th>director</th>\n",
       "      <th>cast</th>\n",
       "      <th>country</th>\n",
       "      <th>date_added</th>\n",
       "      <th>release_year</th>\n",
       "      <th>rating</th>\n",
       "      <th>duration</th>\n",
       "      <th>listed_in</th>\n",
       "      <th>description</th>\n",
       "    </tr>\n",
       "  </thead>\n",
       "  <tbody>\n",
       "    <tr>\n",
       "      <th>0</th>\n",
       "      <td>s1</td>\n",
       "      <td>Movie</td>\n",
       "      <td>Dick Johnson Is Dead</td>\n",
       "      <td>Kirsten Johnson</td>\n",
       "      <td>NaN</td>\n",
       "      <td>United States</td>\n",
       "      <td>September 25, 2021</td>\n",
       "      <td>2020</td>\n",
       "      <td>PG-13</td>\n",
       "      <td>90 min</td>\n",
       "      <td>Documentaries</td>\n",
       "      <td>As her father nears the end of his life, filmm...</td>\n",
       "    </tr>\n",
       "    <tr>\n",
       "      <th>1</th>\n",
       "      <td>s2</td>\n",
       "      <td>TV Show</td>\n",
       "      <td>Blood &amp; Water</td>\n",
       "      <td>NaN</td>\n",
       "      <td>Ama Qamata, Khosi Ngema, Gail Mabalane, Thaban...</td>\n",
       "      <td>South Africa</td>\n",
       "      <td>September 24, 2021</td>\n",
       "      <td>2021</td>\n",
       "      <td>TV-MA</td>\n",
       "      <td>2 Seasons</td>\n",
       "      <td>International TV Shows, TV Dramas, TV Mysteries</td>\n",
       "      <td>After crossing paths at a party, a Cape Town t...</td>\n",
       "    </tr>\n",
       "    <tr>\n",
       "      <th>2</th>\n",
       "      <td>s3</td>\n",
       "      <td>TV Show</td>\n",
       "      <td>Ganglands</td>\n",
       "      <td>Julien Leclercq</td>\n",
       "      <td>Sami Bouajila, Tracy Gotoas, Samuel Jouy, Nabi...</td>\n",
       "      <td>NaN</td>\n",
       "      <td>September 24, 2021</td>\n",
       "      <td>2021</td>\n",
       "      <td>TV-MA</td>\n",
       "      <td>1 Season</td>\n",
       "      <td>Crime TV Shows, International TV Shows, TV Act...</td>\n",
       "      <td>To protect his family from a powerful drug lor...</td>\n",
       "    </tr>\n",
       "    <tr>\n",
       "      <th>3</th>\n",
       "      <td>s4</td>\n",
       "      <td>TV Show</td>\n",
       "      <td>Jailbirds New Orleans</td>\n",
       "      <td>NaN</td>\n",
       "      <td>NaN</td>\n",
       "      <td>NaN</td>\n",
       "      <td>September 24, 2021</td>\n",
       "      <td>2021</td>\n",
       "      <td>TV-MA</td>\n",
       "      <td>1 Season</td>\n",
       "      <td>Docuseries, Reality TV</td>\n",
       "      <td>Feuds, flirtations and toilet talk go down amo...</td>\n",
       "    </tr>\n",
       "    <tr>\n",
       "      <th>4</th>\n",
       "      <td>s5</td>\n",
       "      <td>TV Show</td>\n",
       "      <td>Kota Factory</td>\n",
       "      <td>NaN</td>\n",
       "      <td>Mayur More, Jitendra Kumar, Ranjan Raj, Alam K...</td>\n",
       "      <td>India</td>\n",
       "      <td>September 24, 2021</td>\n",
       "      <td>2021</td>\n",
       "      <td>TV-MA</td>\n",
       "      <td>2 Seasons</td>\n",
       "      <td>International TV Shows, Romantic TV Shows, TV ...</td>\n",
       "      <td>In a city of coaching centers known to train I...</td>\n",
       "    </tr>\n",
       "  </tbody>\n",
       "</table>\n",
       "</div>"
      ],
      "text/plain": [
       "  show_id     type                  title         director  \\\n",
       "0      s1    Movie   Dick Johnson Is Dead  Kirsten Johnson   \n",
       "1      s2  TV Show          Blood & Water              NaN   \n",
       "2      s3  TV Show              Ganglands  Julien Leclercq   \n",
       "3      s4  TV Show  Jailbirds New Orleans              NaN   \n",
       "4      s5  TV Show           Kota Factory              NaN   \n",
       "\n",
       "                                                cast        country  \\\n",
       "0                                                NaN  United States   \n",
       "1  Ama Qamata, Khosi Ngema, Gail Mabalane, Thaban...   South Africa   \n",
       "2  Sami Bouajila, Tracy Gotoas, Samuel Jouy, Nabi...            NaN   \n",
       "3                                                NaN            NaN   \n",
       "4  Mayur More, Jitendra Kumar, Ranjan Raj, Alam K...          India   \n",
       "\n",
       "           date_added  release_year rating   duration  \\\n",
       "0  September 25, 2021          2020  PG-13     90 min   \n",
       "1  September 24, 2021          2021  TV-MA  2 Seasons   \n",
       "2  September 24, 2021          2021  TV-MA   1 Season   \n",
       "3  September 24, 2021          2021  TV-MA   1 Season   \n",
       "4  September 24, 2021          2021  TV-MA  2 Seasons   \n",
       "\n",
       "                                           listed_in  \\\n",
       "0                                      Documentaries   \n",
       "1    International TV Shows, TV Dramas, TV Mysteries   \n",
       "2  Crime TV Shows, International TV Shows, TV Act...   \n",
       "3                             Docuseries, Reality TV   \n",
       "4  International TV Shows, Romantic TV Shows, TV ...   \n",
       "\n",
       "                                         description  \n",
       "0  As her father nears the end of his life, filmm...  \n",
       "1  After crossing paths at a party, a Cape Town t...  \n",
       "2  To protect his family from a powerful drug lor...  \n",
       "3  Feuds, flirtations and toilet talk go down amo...  \n",
       "4  In a city of coaching centers known to train I...  "
      ]
     },
     "execution_count": 2,
     "metadata": {},
     "output_type": "execute_result"
    }
   ],
   "source": [
    "#Data Exploration\n",
    "df.head()"
   ]
  },
  {
   "cell_type": "code",
   "execution_count": 3,
   "id": "405af758",
   "metadata": {},
   "outputs": [
    {
     "data": {
      "text/plain": [
       "(8807, 12)"
      ]
     },
     "execution_count": 3,
     "metadata": {},
     "output_type": "execute_result"
    }
   ],
   "source": [
    "df.shape"
   ]
  },
  {
   "cell_type": "code",
   "execution_count": 4,
   "id": "1425adb1",
   "metadata": {},
   "outputs": [
    {
     "name": "stdout",
     "output_type": "stream",
     "text": [
      "<class 'pandas.core.frame.DataFrame'>\n",
      "RangeIndex: 8807 entries, 0 to 8806\n",
      "Data columns (total 12 columns):\n",
      " #   Column        Non-Null Count  Dtype \n",
      "---  ------        --------------  ----- \n",
      " 0   show_id       8807 non-null   object\n",
      " 1   type          8807 non-null   object\n",
      " 2   title         8807 non-null   object\n",
      " 3   director      6173 non-null   object\n",
      " 4   cast          7982 non-null   object\n",
      " 5   country       7976 non-null   object\n",
      " 6   date_added    8797 non-null   object\n",
      " 7   release_year  8807 non-null   int64 \n",
      " 8   rating        8803 non-null   object\n",
      " 9   duration      8804 non-null   object\n",
      " 10  listed_in     8807 non-null   object\n",
      " 11  description   8807 non-null   object\n",
      "dtypes: int64(1), object(11)\n",
      "memory usage: 825.8+ KB\n"
     ]
    }
   ],
   "source": [
    "df.info()"
   ]
  },
  {
   "cell_type": "code",
   "execution_count": 5,
   "id": "f848daaf",
   "metadata": {},
   "outputs": [
    {
     "data": {
      "text/plain": [
       "Index(['show_id', 'type', 'title', 'director', 'cast', 'country', 'date_added',\n",
       "       'release_year', 'rating', 'duration', 'listed_in', 'description'],\n",
       "      dtype='object')"
      ]
     },
     "execution_count": 5,
     "metadata": {},
     "output_type": "execute_result"
    }
   ],
   "source": [
    "df.columns"
   ]
  },
  {
   "cell_type": "code",
   "execution_count": 6,
   "id": "c5ca3b3b",
   "metadata": {},
   "outputs": [
    {
     "data": {
      "text/html": [
       "<div>\n",
       "<style scoped>\n",
       "    .dataframe tbody tr th:only-of-type {\n",
       "        vertical-align: middle;\n",
       "    }\n",
       "\n",
       "    .dataframe tbody tr th {\n",
       "        vertical-align: top;\n",
       "    }\n",
       "\n",
       "    .dataframe thead th {\n",
       "        text-align: right;\n",
       "    }\n",
       "</style>\n",
       "<table border=\"1\" class=\"dataframe\">\n",
       "  <thead>\n",
       "    <tr style=\"text-align: right;\">\n",
       "      <th></th>\n",
       "      <th>count</th>\n",
       "      <th>unique</th>\n",
       "      <th>top</th>\n",
       "      <th>freq</th>\n",
       "      <th>mean</th>\n",
       "      <th>std</th>\n",
       "      <th>min</th>\n",
       "      <th>25%</th>\n",
       "      <th>50%</th>\n",
       "      <th>75%</th>\n",
       "      <th>max</th>\n",
       "    </tr>\n",
       "  </thead>\n",
       "  <tbody>\n",
       "    <tr>\n",
       "      <th>show_id</th>\n",
       "      <td>8807</td>\n",
       "      <td>8807</td>\n",
       "      <td>s3785</td>\n",
       "      <td>1</td>\n",
       "      <td>NaN</td>\n",
       "      <td>NaN</td>\n",
       "      <td>NaN</td>\n",
       "      <td>NaN</td>\n",
       "      <td>NaN</td>\n",
       "      <td>NaN</td>\n",
       "      <td>NaN</td>\n",
       "    </tr>\n",
       "    <tr>\n",
       "      <th>type</th>\n",
       "      <td>8807</td>\n",
       "      <td>2</td>\n",
       "      <td>Movie</td>\n",
       "      <td>6131</td>\n",
       "      <td>NaN</td>\n",
       "      <td>NaN</td>\n",
       "      <td>NaN</td>\n",
       "      <td>NaN</td>\n",
       "      <td>NaN</td>\n",
       "      <td>NaN</td>\n",
       "      <td>NaN</td>\n",
       "    </tr>\n",
       "    <tr>\n",
       "      <th>title</th>\n",
       "      <td>8807</td>\n",
       "      <td>8807</td>\n",
       "      <td>The Cuba Libre Story</td>\n",
       "      <td>1</td>\n",
       "      <td>NaN</td>\n",
       "      <td>NaN</td>\n",
       "      <td>NaN</td>\n",
       "      <td>NaN</td>\n",
       "      <td>NaN</td>\n",
       "      <td>NaN</td>\n",
       "      <td>NaN</td>\n",
       "    </tr>\n",
       "    <tr>\n",
       "      <th>director</th>\n",
       "      <td>6173</td>\n",
       "      <td>4528</td>\n",
       "      <td>Rajiv Chilaka</td>\n",
       "      <td>19</td>\n",
       "      <td>NaN</td>\n",
       "      <td>NaN</td>\n",
       "      <td>NaN</td>\n",
       "      <td>NaN</td>\n",
       "      <td>NaN</td>\n",
       "      <td>NaN</td>\n",
       "      <td>NaN</td>\n",
       "    </tr>\n",
       "    <tr>\n",
       "      <th>cast</th>\n",
       "      <td>7982</td>\n",
       "      <td>7692</td>\n",
       "      <td>David Attenborough</td>\n",
       "      <td>19</td>\n",
       "      <td>NaN</td>\n",
       "      <td>NaN</td>\n",
       "      <td>NaN</td>\n",
       "      <td>NaN</td>\n",
       "      <td>NaN</td>\n",
       "      <td>NaN</td>\n",
       "      <td>NaN</td>\n",
       "    </tr>\n",
       "    <tr>\n",
       "      <th>country</th>\n",
       "      <td>7976</td>\n",
       "      <td>748</td>\n",
       "      <td>United States</td>\n",
       "      <td>2818</td>\n",
       "      <td>NaN</td>\n",
       "      <td>NaN</td>\n",
       "      <td>NaN</td>\n",
       "      <td>NaN</td>\n",
       "      <td>NaN</td>\n",
       "      <td>NaN</td>\n",
       "      <td>NaN</td>\n",
       "    </tr>\n",
       "    <tr>\n",
       "      <th>date_added</th>\n",
       "      <td>8797</td>\n",
       "      <td>1767</td>\n",
       "      <td>January 1, 2020</td>\n",
       "      <td>109</td>\n",
       "      <td>NaN</td>\n",
       "      <td>NaN</td>\n",
       "      <td>NaN</td>\n",
       "      <td>NaN</td>\n",
       "      <td>NaN</td>\n",
       "      <td>NaN</td>\n",
       "      <td>NaN</td>\n",
       "    </tr>\n",
       "    <tr>\n",
       "      <th>release_year</th>\n",
       "      <td>8807.0</td>\n",
       "      <td>NaN</td>\n",
       "      <td>NaN</td>\n",
       "      <td>NaN</td>\n",
       "      <td>2014.180198</td>\n",
       "      <td>8.819312</td>\n",
       "      <td>1925.0</td>\n",
       "      <td>2013.0</td>\n",
       "      <td>2017.0</td>\n",
       "      <td>2019.0</td>\n",
       "      <td>2021.0</td>\n",
       "    </tr>\n",
       "    <tr>\n",
       "      <th>rating</th>\n",
       "      <td>8803</td>\n",
       "      <td>17</td>\n",
       "      <td>TV-MA</td>\n",
       "      <td>3207</td>\n",
       "      <td>NaN</td>\n",
       "      <td>NaN</td>\n",
       "      <td>NaN</td>\n",
       "      <td>NaN</td>\n",
       "      <td>NaN</td>\n",
       "      <td>NaN</td>\n",
       "      <td>NaN</td>\n",
       "    </tr>\n",
       "    <tr>\n",
       "      <th>duration</th>\n",
       "      <td>8804</td>\n",
       "      <td>220</td>\n",
       "      <td>1 Season</td>\n",
       "      <td>1793</td>\n",
       "      <td>NaN</td>\n",
       "      <td>NaN</td>\n",
       "      <td>NaN</td>\n",
       "      <td>NaN</td>\n",
       "      <td>NaN</td>\n",
       "      <td>NaN</td>\n",
       "      <td>NaN</td>\n",
       "    </tr>\n",
       "    <tr>\n",
       "      <th>listed_in</th>\n",
       "      <td>8807</td>\n",
       "      <td>514</td>\n",
       "      <td>Dramas, International Movies</td>\n",
       "      <td>362</td>\n",
       "      <td>NaN</td>\n",
       "      <td>NaN</td>\n",
       "      <td>NaN</td>\n",
       "      <td>NaN</td>\n",
       "      <td>NaN</td>\n",
       "      <td>NaN</td>\n",
       "      <td>NaN</td>\n",
       "    </tr>\n",
       "    <tr>\n",
       "      <th>description</th>\n",
       "      <td>8807</td>\n",
       "      <td>8775</td>\n",
       "      <td>Paranormal activity at a lush, abandoned prope...</td>\n",
       "      <td>4</td>\n",
       "      <td>NaN</td>\n",
       "      <td>NaN</td>\n",
       "      <td>NaN</td>\n",
       "      <td>NaN</td>\n",
       "      <td>NaN</td>\n",
       "      <td>NaN</td>\n",
       "      <td>NaN</td>\n",
       "    </tr>\n",
       "  </tbody>\n",
       "</table>\n",
       "</div>"
      ],
      "text/plain": [
       "               count unique  \\\n",
       "show_id         8807   8807   \n",
       "type            8807      2   \n",
       "title           8807   8807   \n",
       "director        6173   4528   \n",
       "cast            7982   7692   \n",
       "country         7976    748   \n",
       "date_added      8797   1767   \n",
       "release_year  8807.0    NaN   \n",
       "rating          8803     17   \n",
       "duration        8804    220   \n",
       "listed_in       8807    514   \n",
       "description     8807   8775   \n",
       "\n",
       "                                                            top  freq  \\\n",
       "show_id                                                   s3785     1   \n",
       "type                                                      Movie  6131   \n",
       "title                                      The Cuba Libre Story     1   \n",
       "director                                          Rajiv Chilaka    19   \n",
       "cast                                         David Attenborough    19   \n",
       "country                                           United States  2818   \n",
       "date_added                                      January 1, 2020   109   \n",
       "release_year                                                NaN   NaN   \n",
       "rating                                                    TV-MA  3207   \n",
       "duration                                               1 Season  1793   \n",
       "listed_in                          Dramas, International Movies   362   \n",
       "description   Paranormal activity at a lush, abandoned prope...     4   \n",
       "\n",
       "                     mean       std     min     25%     50%     75%     max  \n",
       "show_id               NaN       NaN     NaN     NaN     NaN     NaN     NaN  \n",
       "type                  NaN       NaN     NaN     NaN     NaN     NaN     NaN  \n",
       "title                 NaN       NaN     NaN     NaN     NaN     NaN     NaN  \n",
       "director              NaN       NaN     NaN     NaN     NaN     NaN     NaN  \n",
       "cast                  NaN       NaN     NaN     NaN     NaN     NaN     NaN  \n",
       "country               NaN       NaN     NaN     NaN     NaN     NaN     NaN  \n",
       "date_added            NaN       NaN     NaN     NaN     NaN     NaN     NaN  \n",
       "release_year  2014.180198  8.819312  1925.0  2013.0  2017.0  2019.0  2021.0  \n",
       "rating                NaN       NaN     NaN     NaN     NaN     NaN     NaN  \n",
       "duration              NaN       NaN     NaN     NaN     NaN     NaN     NaN  \n",
       "listed_in             NaN       NaN     NaN     NaN     NaN     NaN     NaN  \n",
       "description           NaN       NaN     NaN     NaN     NaN     NaN     NaN  "
      ]
     },
     "execution_count": 6,
     "metadata": {},
     "output_type": "execute_result"
    }
   ],
   "source": [
    "df.describe(include='all').transpose()"
   ]
  },
  {
   "cell_type": "code",
   "execution_count": 7,
   "id": "a12aac76",
   "metadata": {},
   "outputs": [
    {
     "data": {
      "text/plain": [
       "show_id            0\n",
       "type               0\n",
       "title              0\n",
       "director        2634\n",
       "cast             825\n",
       "country          831\n",
       "date_added        10\n",
       "release_year       0\n",
       "rating             4\n",
       "duration           3\n",
       "listed_in          0\n",
       "description        0\n",
       "dtype: int64"
      ]
     },
     "execution_count": 7,
     "metadata": {},
     "output_type": "execute_result"
    }
   ],
   "source": [
    "#Data Cleaning\n",
    "#Check for missing value\n",
    "df.isnull().sum()"
   ]
  },
  {
   "cell_type": "code",
   "execution_count": 8,
   "id": "64348af8",
   "metadata": {},
   "outputs": [],
   "source": [
    "#Dropping or filling Missing values\n",
    "df['director'] = df['director'].fillna('Unkown')\n",
    "df['cast'] = df['cast'].fillna('unkown')\n",
    "df['country'] = df['country'].fillna('unkown')\n",
    "df['date_added'] = df['date_added'].fillna(0)\n",
    "df['rating'] = df['rating'].fillna(df['rating'].mode()[0])\n",
    "df['duration'] = df['duration'].fillna(0)"
   ]
  },
  {
   "cell_type": "code",
   "execution_count": 30,
   "id": "f7cdedd0",
   "metadata": {},
   "outputs": [],
   "source": [
    "#Convert date_added column to datetime\n",
    "df['date_added'] = pd.to_datetime(df['date_added'])"
   ]
  },
  {
   "cell_type": "code",
   "execution_count": 32,
   "id": "fa942bad",
   "metadata": {},
   "outputs": [],
   "source": [
    "#Creating two new columns in the dataframe \n",
    "df['month'] = df['date_added'].dt.month\n",
    "df['year'] = df['date_added'].dt.year"
   ]
  },
  {
   "cell_type": "markdown",
   "id": "996d1b1c",
   "metadata": {},
   "source": [
    "# Univariate Analysis\n",
    " 1. Categorical - show_id, type, title, director, cast, country,rating, duration, listed_in, description, \n",
    " 2. Numeric - release_year, month, year\n",
    " 3. date - date_added"
   ]
  },
  {
   "cell_type": "code",
   "execution_count": 60,
   "id": "3551e07f",
   "metadata": {},
   "outputs": [
    {
     "data": {
      "text/plain": [
       "Movie      6131\n",
       "TV Show    2676\n",
       "Name: type, dtype: int64"
      ]
     },
     "execution_count": 60,
     "metadata": {},
     "output_type": "execute_result"
    }
   ],
   "source": [
    "#Categorical Variable Visualisation\n",
    "df['type'].value_counts()"
   ]
  },
  {
   "cell_type": "code",
   "execution_count": 135,
   "id": "58b7f039",
   "metadata": {},
   "outputs": [
    {
     "data": {
      "image/png": "[encoded data removed]",
      "text/plain": [
       "<Figure size 432x288 with 1 Axes>"
      ]
     },
     "metadata": {
      "needs_background": "light"
     },
     "output_type": "display_data"
    }
   ],
   "source": [
    "sns.countplot(data=df,x='type')\n",
    "plt.title('Count of Movies and TV Shows')\n",
    "plt.savefig('Count of Movies and TV Shows')\n",
    "plt.show()"
   ]
  },
  {
   "cell_type": "markdown",
   "id": "3050e54e",
   "metadata": {},
   "source": [
    "Observations:\n",
    "\n",
    "Netflix has more Movies than TV Show"
   ]
  },
  {
   "cell_type": "code",
   "execution_count": 73,
   "id": "c24b06a2",
   "metadata": {},
   "outputs": [
    {
     "data": {
      "text/plain": [
       "TV-MA    3211\n",
       "TV-14    2160\n",
       "TV-PG     863\n",
       "R         799\n",
       "PG-13     490\n",
       "TV-Y7     334\n",
       "TV-Y      307\n",
       "PG        287\n",
       "TV-G      220\n",
       "NR         80\n",
       "Name: rating, dtype: int64"
      ]
     },
     "execution_count": 73,
     "metadata": {},
     "output_type": "execute_result"
    }
   ],
   "source": [
    "df['rating'].value_counts().head(10)"
   ]
  },
  {
   "cell_type": "code",
   "execution_count": 136,
   "id": "34457168",
   "metadata": {},
   "outputs": [
    {
     "data": {
      "image/png": "[encoded data removed]",
      "text/plain": [
       "<Figure size 1080x360 with 1 Axes>"
      ]
     },
     "metadata": {
      "needs_background": "light"
     },
     "output_type": "display_data"
    }
   ],
   "source": [
    "plt.figure(figsize=(15,5))\n",
    "sns.countplot(data=df,x='rating')\n",
    "plt.xticks(rotation=45)\n",
    "plt.title('Content Rating Distribution')\n",
    "plt.savefig('Content Rating Distribution')\n",
    "plt.show()"
   ]
  },
  {
   "cell_type": "markdown",
   "id": "cebfbf48",
   "metadata": {},
   "source": [
    "Observations:\n",
    "\n",
    "TV-MA, TV-14 and TV-PG are the three top Content Rating."
   ]
  },
  {
   "cell_type": "code",
   "execution_count": 79,
   "id": "03736762",
   "metadata": {},
   "outputs": [
    {
     "data": {
      "text/plain": [
       "1 Season     1793\n",
       "2 Seasons     425\n",
       "3 Seasons     199\n",
       "90 min        152\n",
       "94 min        146\n",
       "93 min        146\n",
       "97 min        146\n",
       "91 min        144\n",
       "95 min        137\n",
       "96 min        130\n",
       "Name: duration, dtype: int64"
      ]
     },
     "execution_count": 79,
     "metadata": {},
     "output_type": "execute_result"
    }
   ],
   "source": [
    "df['duration'].value_counts().head(10)"
   ]
  },
  {
   "cell_type": "code",
   "execution_count": 137,
   "id": "e51c99da",
   "metadata": {},
   "outputs": [
    {
     "data": {
      "image/png": "[encoded data removed]",
      "text/plain": [
       "<Figure size 864x432 with 1 Axes>"
      ]
     },
     "metadata": {
      "needs_background": "light"
     },
     "output_type": "display_data"
    }
   ],
   "source": [
    "plt.figure(figsize=(12,6))\n",
    "df['duration'].value_counts().head(10).plot(kind='bar')\n",
    "plt.xticks(rotation=45)\n",
    "plt.savefig('Top 10 Duration of Movie and TV Shows')\n",
    "plt.show()"
   ]
  },
  {
   "cell_type": "markdown",
   "id": "d24a4373",
   "metadata": {},
   "source": [
    "Observations:\n",
    "\n",
    "Season 1 of TV shows are mostly Viewed."
   ]
  },
  {
   "cell_type": "code",
   "execution_count": 90,
   "id": "d74e3099",
   "metadata": {},
   "outputs": [
    {
     "data": {
      "text/plain": [
       "Dramas, International Movies                         362\n",
       "Documentaries                                        359\n",
       "Stand-Up Comedy                                      334\n",
       "Comedies, Dramas, International Movies               274\n",
       "Dramas, Independent Movies, International Movies     252\n",
       "Kids' TV                                             220\n",
       "Children & Family Movies                             215\n",
       "Children & Family Movies, Comedies                   201\n",
       "Documentaries, International Movies                  186\n",
       "Dramas, International Movies, Romantic Movies        180\n",
       "Comedies, International Movies                       176\n",
       "Comedies, International Movies, Romantic Movies      152\n",
       "Dramas                                               138\n",
       "Dramas, International Movies, Thrillers              134\n",
       "Action & Adventure, Dramas, International Movies     132\n",
       "Action & Adventure                                   128\n",
       "International TV Shows, TV Dramas                    121\n",
       "Comedies, Dramas, Independent Movies                 116\n",
       "Crime TV Shows, International TV Shows, TV Dramas    110\n",
       "Comedies                                             110\n",
       "Name: listed_in, dtype: int64"
      ]
     },
     "execution_count": 90,
     "metadata": {},
     "output_type": "execute_result"
    }
   ],
   "source": [
    "df['listed_in'].value_counts().head(20)"
   ]
  },
  {
   "cell_type": "code",
   "execution_count": 138,
   "id": "12e37d42",
   "metadata": {},
   "outputs": [
    {
     "data": {
      "image/png": "[encoded data removed]",
      "text/plain": [
       "<Figure size 864x432 with 1 Axes>"
      ]
     },
     "metadata": {
      "needs_background": "light"
     },
     "output_type": "display_data"
    }
   ],
   "source": [
    "plt.figure(figsize=(12,6))\n",
    "df['listed_in'].value_counts().head(10).plot(kind='bar')\n",
    "plt.title('Top 10 Content Categories (Genres)')\n",
    "plt.savefig('Top 10 Content Categories (Genres)')\n",
    "plt.show()"
   ]
  },
  {
   "cell_type": "markdown",
   "id": "1b030387",
   "metadata": {},
   "source": [
    "Observations:\n",
    "\n",
    "Dramas, Internation Movies, Documenteries and Stand-Up Comedy are top 3 Geners"
   ]
  },
  {
   "cell_type": "code",
   "execution_count": 139,
   "id": "83d3bb5f",
   "metadata": {},
   "outputs": [
    {
     "data": {
      "image/png": "[encoded data removed]",
      "text/plain": [
       "<Figure size 864x432 with 1 Axes>"
      ]
     },
     "metadata": {
      "needs_background": "light"
     },
     "output_type": "display_data"
    }
   ],
   "source": [
    "plt.figure(figsize=(12,6))\n",
    "df['country'].value_counts().head(10).plot(kind='bar')\n",
    "plt.xticks(rotation=45)\n",
    "plt.title('Top 10 Countries with Most Content')\n",
    "plt.savefig('Top 10 Countries with Most Content')\n",
    "plt.show()"
   ]
  },
  {
   "cell_type": "markdown",
   "id": "e8834094",
   "metadata": {},
   "source": [
    "Observations:\n",
    "\n",
    "United States has the most content on Netflix."
   ]
  },
  {
   "cell_type": "code",
   "execution_count": 102,
   "id": "ab1bf923",
   "metadata": {},
   "outputs": [
    {
     "data": {
      "text/plain": [
       "count    8807.000000\n",
       "mean     2014.180198\n",
       "std         8.819312\n",
       "min      1925.000000\n",
       "25%      2013.000000\n",
       "50%      2017.000000\n",
       "75%      2019.000000\n",
       "max      2021.000000\n",
       "Name: release_year, dtype: float64"
      ]
     },
     "execution_count": 102,
     "metadata": {},
     "output_type": "execute_result"
    }
   ],
   "source": [
    "#Numerical Variable Visualisation\n",
    "df['release_year'].describe()"
   ]
  },
  {
   "cell_type": "code",
   "execution_count": 140,
   "id": "5d21de29",
   "metadata": {},
   "outputs": [
    {
     "data": {
      "image/png": "[encoded data removed]",
      "text/plain": [
       "<Figure size 864x432 with 1 Axes>"
      ]
     },
     "metadata": {
      "needs_background": "light"
     },
     "output_type": "display_data"
    }
   ],
   "source": [
    "plt.figure(figsize=(12,6))\n",
    "plt.title('Distribution of Release Year')\n",
    "sns.histplot(data=df,x='release_year',bins=30,kde=True)\n",
    "plt.xlabel('Release Year')\n",
    "plt.savefig('Distribution of Release Year')\n",
    "plt.show()"
   ]
  },
  {
   "cell_type": "markdown",
   "id": "07ee69d3",
   "metadata": {},
   "source": [
    "Observations:\n",
    "\n",
    "Release Year data is left skewed."
   ]
  },
  {
   "cell_type": "code",
   "execution_count": 141,
   "id": "8de6915b",
   "metadata": {},
   "outputs": [
    {
     "data": {
      "image/png": "[encoded data removed]",
      "text/plain": [
       "<Figure size 864x432 with 1 Axes>"
      ]
     },
     "metadata": {
      "needs_background": "light"
     },
     "output_type": "display_data"
    }
   ],
   "source": [
    "#Date Variable Analysis\n",
    "plt.figure(figsize=(12,6))\n",
    "plt.title('Content added by Month')\n",
    "df['month'].value_counts().plot(kind='bar')\n",
    "plt.savefig('Content added by Month')\n",
    "plt.show()"
   ]
  },
  {
   "cell_type": "markdown",
   "id": "0a5a81db",
   "metadata": {},
   "source": [
    "Observations:\n",
    "\n",
    "July, December have most added content."
   ]
  },
  {
   "cell_type": "code",
   "execution_count": 127,
   "id": "f52abfd5",
   "metadata": {},
   "outputs": [
    {
     "data": {
      "text/plain": [
       "2019    2016\n",
       "2020    1879\n",
       "2018    1649\n",
       "2021    1498\n",
       "2017    1188\n",
       "2016     429\n",
       "2015      82\n",
       "2014      24\n",
       "2011      13\n",
       "2013      11\n",
       "Name: year, dtype: int64"
      ]
     },
     "execution_count": 127,
     "metadata": {},
     "output_type": "execute_result"
    }
   ],
   "source": [
    "df['year'].value_counts().head(10)"
   ]
  },
  {
   "cell_type": "code",
   "execution_count": 143,
   "id": "ec6bb5ac",
   "metadata": {},
   "outputs": [
    {
     "data": {
      "image/png": "[encoded data removed]",
      "text/plain": [
       "<Figure size 864x432 with 1 Axes>"
      ]
     },
     "metadata": {
      "needs_background": "light"
     },
     "output_type": "display_data"
    }
   ],
   "source": [
    "plt.figure(figsize=(12,6))\n",
    "plt.title('Content added by Year')\n",
    "df['year'].value_counts().head(10).plot(kind='bar')\n",
    "plt.xticks(rotation=45)\n",
    "plt.savefig('Content added per Year')\n",
    "plt.show()"
   ]
  },
  {
   "cell_type": "markdown",
   "id": "4595ce3b",
   "metadata": {},
   "source": [
    "Observations:\n",
    "\n",
    "Year 2019 has the most number of added content."
   ]
  },
  {
   "cell_type": "code",
   "execution_count": null,
   "id": "08b9b356",
   "metadata": {},
   "outputs": [],
   "source": []
  }
 ],
 "metadata": {
  "kernelspec": {
   "display_name": "Python 3",
   "language": "python",
   "name": "python3"
  },
  "language_info": {
   "codemirror_mode": {
    "name": "ipython",
    "version": 3
   },
   "file_extension": ".py",
   "mimetype": "text/x-python",
   "name": "python",
   "nbconvert_exporter": "python",
   "pygments_lexer": "ipython3",
   "version": "3.8.8"
  }
 },
 "nbformat": 4,
 "nbformat_minor": 5
}
